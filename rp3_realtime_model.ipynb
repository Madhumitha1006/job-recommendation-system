{
 "cells": [
  {
   "cell_type": "code",
   "execution_count": 1,
   "id": "a26ee238",
   "metadata": {},
   "outputs": [],
   "source": [
    "import numpy as np\n",
    "import pandas as pd\n",
    "import networkx as nx"
   ]
  },
  {
   "cell_type": "code",
   "execution_count": 2,
   "id": "66fba244",
   "metadata": {},
   "outputs": [],
   "source": [
    "interactions = pd.read_csv(\"data_train_subset.csv\")"
   ]
  },
  {
   "cell_type": "code",
   "execution_count": 3,
   "id": "d463f738",
   "metadata": {},
   "outputs": [
    {
     "data": {
      "text/html": [
       "<div>\n",
       "<style scoped>\n",
       "    .dataframe tbody tr th:only-of-type {\n",
       "        vertical-align: middle;\n",
       "    }\n",
       "\n",
       "    .dataframe tbody tr th {\n",
       "        vertical-align: top;\n",
       "    }\n",
       "\n",
       "    .dataframe thead th {\n",
       "        text-align: right;\n",
       "    }\n",
       "</style>\n",
       "<table border=\"1\" class=\"dataframe\">\n",
       "  <thead>\n",
       "    <tr style=\"text-align: right;\">\n",
       "      <th></th>\n",
       "      <th>users</th>\n",
       "      <th>jobs</th>\n",
       "      <th>event</th>\n",
       "      <th>timestamps</th>\n",
       "    </tr>\n",
       "  </thead>\n",
       "  <tbody>\n",
       "    <tr>\n",
       "      <th>0</th>\n",
       "      <td>2531442</td>\n",
       "      <td>93409</td>\n",
       "      <td>click</td>\n",
       "      <td>1582436367</td>\n",
       "    </tr>\n",
       "    <tr>\n",
       "      <th>1</th>\n",
       "      <td>2038815</td>\n",
       "      <td>168399</td>\n",
       "      <td>click</td>\n",
       "      <td>1582597367</td>\n",
       "    </tr>\n",
       "    <tr>\n",
       "      <th>2</th>\n",
       "      <td>2678041</td>\n",
       "      <td>122067</td>\n",
       "      <td>click</td>\n",
       "      <td>1582407982</td>\n",
       "    </tr>\n",
       "    <tr>\n",
       "      <th>3</th>\n",
       "      <td>1073494</td>\n",
       "      <td>9017</td>\n",
       "      <td>click</td>\n",
       "      <td>1581885544</td>\n",
       "    </tr>\n",
       "    <tr>\n",
       "      <th>4</th>\n",
       "      <td>2727150</td>\n",
       "      <td>92678</td>\n",
       "      <td>bookmark</td>\n",
       "      <td>1582145466</td>\n",
       "    </tr>\n",
       "  </tbody>\n",
       "</table>\n",
       "</div>"
      ],
      "text/plain": [
       "     users    jobs     event  timestamps\n",
       "0  2531442   93409     click  1582436367\n",
       "1  2038815  168399     click  1582597367\n",
       "2  2678041  122067     click  1582407982\n",
       "3  1073494    9017     click  1581885544\n",
       "4  2727150   92678  bookmark  1582145466"
      ]
     },
     "execution_count": 3,
     "metadata": {},
     "output_type": "execute_result"
    }
   ],
   "source": [
    "interactions.head()"
   ]
  },
  {
   "cell_type": "markdown",
   "id": "310f6c3c",
   "metadata": {},
   "source": [
    "# train"
   ]
  },
  {
   "cell_type": "code",
   "execution_count": 4,
   "id": "ba065890",
   "metadata": {
    "scrolled": true
   },
   "outputs": [
    {
     "data": {
      "text/plain": [
       "1000"
      ]
     },
     "execution_count": 4,
     "metadata": {},
     "output_type": "execute_result"
    }
   ],
   "source": [
    "jobs = pd.Series(interactions.jobs).unique()\n",
    "users = pd.Series(interactions.users).unique()\n",
    "edge_list = list(zip(interactions['users'], interactions['jobs']))\n",
    "unique_edges = list(set(edge_list))\n",
    "len(unique_edges)"
   ]
  },
  {
   "cell_type": "code",
   "execution_count": 5,
   "id": "7e4abd35",
   "metadata": {},
   "outputs": [],
   "source": [
    "def create_graph(jobs,users,unique_edges):\n",
    "    G = nx.Graph()\n",
    "    G.add_nodes_from(users, bipartite=0, label='users')\n",
    "    G.add_nodes_from(jobs, bipartite=1, label='jobs')\n",
    "    G.add_edges_from(unique_edges)\n",
    "    return G"
   ]
  },
  {
   "cell_type": "code",
   "execution_count": 6,
   "id": "0d26d841",
   "metadata": {},
   "outputs": [],
   "source": [
    "G=create_graph(jobs,users,unique_edges)"
   ]
  },
  {
   "cell_type": "code",
   "execution_count": 7,
   "id": "fb18dedf",
   "metadata": {},
   "outputs": [
    {
     "name": "stdout",
     "output_type": "stream",
     "text": [
      "Partition 0 node count: 999\n",
      "Partition 1 node count: 994\n"
     ]
    }
   ],
   "source": [
    "partition_0_nodes= users.tolist()\n",
    "partition_0_node_count = len(partition_0_nodes)\n",
    "\n",
    "partition_1_nodes= jobs.tolist()\n",
    "partition_1_node_count = len(partition_1_nodes)\n",
    "\n",
    "# Print the node counts\n",
    "print(\"Partition 0 node count:\", partition_0_node_count)\n",
    "print(\"Partition 1 node count:\", partition_1_node_count)"
   ]
  },
  {
   "cell_type": "code",
   "execution_count": 8,
   "id": "2a079d29",
   "metadata": {},
   "outputs": [],
   "source": [
    "users_index = list(enumerate(partition_0_nodes, start=0))\n",
    "jobs_index=list(enumerate(partition_1_nodes, start=0))"
   ]
  },
  {
   "cell_type": "code",
   "execution_count": 9,
   "id": "bbd39a19",
   "metadata": {},
   "outputs": [],
   "source": [
    "users_dict= dict(users_index)\n",
    "users_dict= {value: key for key, value in users_dict.items()}\n",
    "serial_to_job_dict= dict(jobs_index)\n",
    "jobs_dict= {value: key for key, value in serial_to_job_dict.items()}"
   ]
  },
  {
   "cell_type": "code",
   "execution_count": 10,
   "id": "77cc5b7e",
   "metadata": {},
   "outputs": [],
   "source": [
    "r_score = np.zeros((partition_1_node_count, partition_1_node_count))"
   ]
  },
  {
   "cell_type": "code",
   "execution_count": 11,
   "id": "ef990e5f",
   "metadata": {},
   "outputs": [],
   "source": [
    "def fill_matrix(node1,u_dash,node2,alpha,beta):\n",
    "    p_idash_udash= 1/ abs(len(list(G.neighbors(node1))))**alpha\n",
    "    p_udash_i= 1/ abs((abs(len(list(G.neighbors(u_dash))))**alpha) * (abs(len(list(G.neighbors(node2))))**beta) ) \n",
    "    return (p_idash_udash*p_udash_i)"
   ]
  },
  {
   "cell_type": "code",
   "execution_count": 12,
   "id": "af5ef6e2",
   "metadata": {},
   "outputs": [],
   "source": [
    "def sim_score(node1,node2,alpha,beta):\n",
    "    r_score=0;\n",
    "    for u_dash in list(G.neighbors(node1)):\n",
    "        if G.has_edge(u_dash, node2):\n",
    "            r_score+=fill_matrix(node1,u_dash,node2,alpha,beta)\n",
    "    return r_score"
   ]
  },
  {
   "cell_type": "code",
   "execution_count": 13,
   "id": "643b3059",
   "metadata": {},
   "outputs": [],
   "source": [
    "def item_sim_matrix(alpha,beta):\n",
    "    for node1,x in jobs_dict.items():\n",
    "        for node2,y in jobs_dict.items():\n",
    "            r_score[x][y]+= sim_score(node1,node2,alpha,beta)\n",
    "    print(r_score)"
   ]
  },
  {
   "cell_type": "code",
   "execution_count": 15,
   "id": "4948b516",
   "metadata": {},
   "outputs": [
    {
     "name": "stdout",
     "output_type": "stream",
     "text": [
      "[[2.        0.        0.        ... 0.        0.        0.       ]\n",
      " [0.        2.3639069 0.        ... 0.        0.        0.       ]\n",
      " [0.        0.        2.        ... 0.        0.        0.       ]\n",
      " ...\n",
      " [0.        0.        0.        ... 2.        0.        0.       ]\n",
      " [0.        0.        0.        ... 0.        2.        0.       ]\n",
      " [0.        0.        0.        ... 0.        0.        2.       ]]\n"
     ]
    }
   ],
   "source": [
    "alpha= 0.61447198\n",
    "beta=0.1443548\n",
    "item_sim_matrix(alpha,beta)"
   ]
  },
  {
   "cell_type": "code",
   "execution_count": 16,
   "id": "58a4eb8b",
   "metadata": {},
   "outputs": [],
   "source": [
    "def recommendations(job,r_score,n):\n",
    "    job_idx= jobs_dict.get(job)\n",
    "    user_scores = r_score[job_idx]\n",
    "    sorted_scores_indices = np.argsort(-user_scores)\n",
    "    top_n_recommendation_list = sorted_scores_indices[:n]\n",
    "    top_n_recommendations = [serial_to_job_dict.get(x) for x in top_n_recommendation_list]\n",
    "    return top_n_recommendations"
   ]
  },
  {
   "cell_type": "code",
   "execution_count": 17,
   "id": "6553a327",
   "metadata": {},
   "outputs": [],
   "source": [
    "def new_user_recommendations(n):\n",
    "    # Calculate item popularity (counting the number of interactions)\n",
    "    item_popularity = interactions['jobs'].value_counts().reset_index()\n",
    "    item_popularity.columns = ['item', 'popularity']\n",
    "    sorted_items = item_popularity.sort_values('popularity', ascending=False)\n",
    "    top_n_recommendations = sorted_items['item'].head(n).tolist()\n",
    "    return top_n_recommendations"
   ]
  },
  {
   "cell_type": "code",
   "execution_count": 18,
   "id": "76225116",
   "metadata": {},
   "outputs": [
    {
     "data": {
      "text/plain": [
       "[50672, 93409, 172810, 100184, 75256, 128498, 139149, 20358, 57789, 51660]"
      ]
     },
     "execution_count": 18,
     "metadata": {},
     "output_type": "execute_result"
    }
   ],
   "source": [
    "recommendations(50672,r_score,10)"
   ]
  },
  {
   "cell_type": "code",
   "execution_count": 19,
   "id": "3d5671c5",
   "metadata": {},
   "outputs": [
    {
     "data": {
      "text/plain": [
       "False"
      ]
     },
     "execution_count": 19,
     "metadata": {},
     "output_type": "execute_result"
    }
   ],
   "source": [
    "# recommendations(2563823,r_score,10)\n",
    "2563823 in users"
   ]
  },
  {
   "cell_type": "code",
   "execution_count": 20,
   "id": "8caf5558",
   "metadata": {},
   "outputs": [],
   "source": [
    "def  realtime_recommendations(user,n):\n",
    "    if not (user in users):\n",
    "        key_list=list(new_user_recommendations(n))\n",
    "        return key_list\n",
    "    user_interactions = interactions[interactions['users'] == user]\n",
    "    sorted_interactions = user_interactions.sort_values(by='timestamps', ascending=False)\n",
    "    user_data = interactions[interactions['users'] == user]\n",
    "    user_data= user_data['jobs'].nunique()\n",
    "    if (user_data>=10):\n",
    "        user_data=10\n",
    "    most_recent_items = sorted_interactions.head(user_data)['jobs'].tolist()\n",
    "    \n",
    "    R={}\n",
    "    for recent_item in most_recent_items:\n",
    "        items_list=recommendations(recent_item,r_score,n)\n",
    "        \n",
    "        for similar_item in items_list:\n",
    "            similarity_score= r_score[jobs_dict.get(recent_item)][jobs_dict.get(similar_item)]\n",
    "            if similar_item in R:\n",
    "                R[similar_item].append(similarity_score)\n",
    "            else:\n",
    "                R[similar_item] = [similarity_score]\n",
    "            \n",
    "    for similar_item, similarity_scores in R.items():\n",
    "        R[similar_item] = sum(similarity_scores)\n",
    "    \n",
    "    sorted_R= sorted(R.items(), key=lambda x: x[1], reverse=True)\n",
    "    top_n_items = dict(sorted_R[:n])\n",
    "    \n",
    "    key_list = list(top_n_items.keys())\n",
    "    return key_list"
   ]
  },
  {
   "cell_type": "code",
   "execution_count": 21,
   "id": "da115fcd",
   "metadata": {},
   "outputs": [
    {
     "data": {
      "text/plain": [
       "[9017, 93409, 172810, 100184, 75256, 128498, 139149, 20358, 57789, 51660]"
      ]
     },
     "execution_count": 21,
     "metadata": {},
     "output_type": "execute_result"
    }
   ],
   "source": [
    "realtime_recommendations(1073494,10)"
   ]
  },
  {
   "cell_type": "code",
   "execution_count": 22,
   "id": "f5ba57b7",
   "metadata": {},
   "outputs": [
    {
     "data": {
      "text/plain": [
       "[168399, 115366, 146291, 54370, 50277, 33678, 50672, 139358, 17578, 136590]"
      ]
     },
     "execution_count": 22,
     "metadata": {},
     "output_type": "execute_result"
    }
   ],
   "source": [
    "realtime_recommendations(2563823,10)"
   ]
  },
  {
   "cell_type": "markdown",
   "id": "3766319f",
   "metadata": {},
   "source": [
    "# test"
   ]
  },
  {
   "cell_type": "code",
   "execution_count": 23,
   "id": "639b53d1",
   "metadata": {},
   "outputs": [
    {
     "data": {
      "text/html": [
       "<div>\n",
       "<style scoped>\n",
       "    .dataframe tbody tr th:only-of-type {\n",
       "        vertical-align: middle;\n",
       "    }\n",
       "\n",
       "    .dataframe tbody tr th {\n",
       "        vertical-align: top;\n",
       "    }\n",
       "\n",
       "    .dataframe thead th {\n",
       "        text-align: right;\n",
       "    }\n",
       "</style>\n",
       "<table border=\"1\" class=\"dataframe\">\n",
       "  <thead>\n",
       "    <tr style=\"text-align: right;\">\n",
       "      <th></th>\n",
       "      <th>users</th>\n",
       "      <th>jobs</th>\n",
       "      <th>event</th>\n",
       "      <th>timestamps</th>\n",
       "    </tr>\n",
       "  </thead>\n",
       "  <tbody>\n",
       "    <tr>\n",
       "      <th>0</th>\n",
       "      <td>2563823</td>\n",
       "      <td>98021</td>\n",
       "      <td>click</td>\n",
       "      <td>1581994931</td>\n",
       "    </tr>\n",
       "    <tr>\n",
       "      <th>1</th>\n",
       "      <td>2448122</td>\n",
       "      <td>122656</td>\n",
       "      <td>click</td>\n",
       "      <td>1581526970</td>\n",
       "    </tr>\n",
       "    <tr>\n",
       "      <th>2</th>\n",
       "      <td>310204</td>\n",
       "      <td>107928</td>\n",
       "      <td>click</td>\n",
       "      <td>1581579765</td>\n",
       "    </tr>\n",
       "    <tr>\n",
       "      <th>3</th>\n",
       "      <td>1118737</td>\n",
       "      <td>120433</td>\n",
       "      <td>click</td>\n",
       "      <td>1582587666</td>\n",
       "    </tr>\n",
       "    <tr>\n",
       "      <th>4</th>\n",
       "      <td>427433</td>\n",
       "      <td>12303</td>\n",
       "      <td>click</td>\n",
       "      <td>1581531903</td>\n",
       "    </tr>\n",
       "  </tbody>\n",
       "</table>\n",
       "</div>"
      ],
      "text/plain": [
       "     users    jobs  event  timestamps\n",
       "0  2563823   98021  click  1581994931\n",
       "1  2448122  122656  click  1581526970\n",
       "2   310204  107928  click  1581579765\n",
       "3  1118737  120433  click  1582587666\n",
       "4   427433   12303  click  1581531903"
      ]
     },
     "execution_count": 23,
     "metadata": {},
     "output_type": "execute_result"
    }
   ],
   "source": [
    "test_data = pd.read_csv(\"data_test_subset.csv\")\n",
    "test_data.head()"
   ]
  },
  {
   "cell_type": "code",
   "execution_count": 24,
   "id": "3ae9fc90",
   "metadata": {},
   "outputs": [
    {
     "data": {
      "text/plain": [
       "80"
      ]
     },
     "execution_count": 24,
     "metadata": {},
     "output_type": "execute_result"
    }
   ],
   "source": [
    "total_users = len(test_data['users'].unique())\n",
    "precision_sum = 0\n",
    "recall_sum = 0\n",
    "total_users"
   ]
  },
  {
   "cell_type": "code",
   "execution_count": 25,
   "id": "9df07e18",
   "metadata": {},
   "outputs": [
    {
     "name": "stdout",
     "output_type": "stream",
     "text": [
      "Average Precision: 0.0\n",
      "Average Recall: 0.0\n"
     ]
    }
   ],
   "source": [
    "  for user_id in test_data['users'].unique():\n",
    "    true_positives = 0\n",
    "    recommended_jobs = realtime_recommendations(user_id,50) \n",
    "    user_items = test_data.loc[test_data['users'] == user_id, 'jobs']\n",
    "    \n",
    "    for item in recommended_jobs:\n",
    "        if item in user_items:\n",
    "            true_positives += 1\n",
    "    \n",
    "    precision = true_positives / len(recommended_jobs)\n",
    "    recall = true_positives / len(user_items)\n",
    "    \n",
    "    precision_sum += precision\n",
    "    recall_sum += recall\n",
    "    \n",
    "# Calculate average precision and recall\n",
    "average_precision = precision_sum / total_users\n",
    "average_recall = recall_sum / total_users\n",
    "\n",
    "print(\"Average Precision:\", average_precision)\n",
    "print(\"Average Recall:\", average_recall)"
   ]
  }
 ],
 "metadata": {
  "kernelspec": {
   "display_name": "Python 3 (ipykernel)",
   "language": "python",
   "name": "python3"
  },
  "language_info": {
   "codemirror_mode": {
    "name": "ipython",
    "version": 3
   },
   "file_extension": ".py",
   "mimetype": "text/x-python",
   "name": "python",
   "nbconvert_exporter": "python",
   "pygments_lexer": "ipython3",
   "version": "3.11.4"
  }
 },
 "nbformat": 4,
 "nbformat_minor": 5
}
